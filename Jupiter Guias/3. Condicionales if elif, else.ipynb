{
 "cells": [
  {
   "cell_type": "markdown",
   "metadata": {},
   "source": [
    "# **Condicionales if, elif, else**"
   ]
  },
  {
   "cell_type": "markdown",
   "metadata": {},
   "source": [
    "if, elif, else son condicionales que se utilizan para tomar decisiones en un programa."
   ]
  },
  {
   "cell_type": "markdown",
   "metadata": {},
   "source": [
    "El if se utiliza para ejecutar un bloque de código si una condición es verdadera. En este caso, si Box1 es menor que Box2, se imprime un mensaje.\n",
    "\n",
    "El elif se utiliza para ejecutar un bloque de código si la condición anterior no es verdadera y la condición del elif es verdadera.En este caso, si Box1 es mayor que Box2, se imprime un mensaje.\n",
    "\n",
    "El else se utiliza para ejecutar un bloque de código si ninguna de las condiciones anteriores es verdadera."
   ]
  },
  {
   "cell_type": "code",
   "execution_count": null,
   "metadata": {},
   "outputs": [],
   "source": [
    "Box1 = float(input(\"Ingrese un numero para operaciones de if, elif, else: \"))\n",
    "Box2 = float(input(\"Ingrese otro numero para operaciones de if, elif, else: \"))\n",
    "\n",
    "if Box1 < Box2:\n",
    "    print(\"El numero\", Box1, \"es menor que\", Box2)\n",
    "elif Box1 > Box2:\n",
    "    print(\"El numero\", Box1, \"es mayor que\", Box2)\n",
    "else:\n",
    "    print(\"El numero\", Box1, \"es igual que\", Box2)"
   ]
  },
  {
   "cell_type": "markdown",
   "metadata": {},
   "source": [
    "Un ejemplo mas elaborado seria:"
   ]
  },
  {
   "cell_type": "code",
   "execution_count": null,
   "metadata": {},
   "outputs": [],
   "source": [
    "Box1 = str(input(\"Ingrese un color (rojo, azul o verde) para operaciones de if, elif, else: \"))\n",
    "Box2 = str(input(\"Ingrese otro color (rojo, azul o verde) para operaciones de if, elif, else: \"))\n",
    "if Box1 == \"rojo\" and Box2 == \"azul\":\n",
    "    print(\"El color\", Box1, \"es diferente que el\", Box2)\n",
    "elif Box1 == \"rojo\" and Box2 == \"verde\":\n",
    "    print(\"El color\", Box1, \"es diferente que el\", Box2)\n",
    "elif Box1 == \"azul\" and Box2 == \"verde\":\n",
    "    print(\"El color\", Box1, \"es diferente que el\", Box2)\n",
    "elif Box1 == \"azul\" and Box2 == \"rojo\":\n",
    "    print(\"El color\", Box1, \"es diferente que el\", Box2)\n",
    "elif Box1 == \"verde\" and Box2 == \"rojo\":\n",
    "    print(\"El color\", Box1, \"es diferente que el\", Box2)\n",
    "elif Box1 == \"verde\" and Box2 == \"azul\":\n",
    "    print(\"El color\", Box1, \"es diferente que el\", Box2)\n",
    "else:\n",
    "    print(\"Los colores\", Box1, \"y\", Box2, \"son iguales\")"
   ]
  }
 ],
 "metadata": {
  "language_info": {
   "name": "python"
  }
 },
 "nbformat": 4,
 "nbformat_minor": 2
}
