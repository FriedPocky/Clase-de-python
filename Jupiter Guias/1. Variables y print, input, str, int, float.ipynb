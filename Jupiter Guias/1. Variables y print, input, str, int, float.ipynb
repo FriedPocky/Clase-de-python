{
 "cells": [
  {
   "cell_type": "markdown",
   "metadata": {},
   "source": [
    "# **Variables y elementos basicos de python**"
   ]
  },
  {
   "cell_type": "markdown",
   "metadata": {},
   "source": [
    "En el siguiente codigo podemos ver el uso de algunos elementos basicos de python. Variables, print, input, str, int y float.\n",
    "- Variables: Son contenedores que se utilizan para almacenar valores en un programa. En Python, no es necesario declarar el tipo de una variable explícitamente; el tipo se infiere del valor asignado.\n",
    "\n",
    "- print: Es una función incorporada en Python que se utiliza para mostrar información en la consola.\n",
    "\n",
    "- input: Es una función incorporada en Python que permite al usuario ingresar datos desde la consola. El valor ingresado se devuelve como una cadena de texto (str), excepto que especifiquemos si es un numero entero (int), un numero decimal o flotante (float), etc.\n",
    "\n",
    "- str: Es un tipo de datos en Python que representa una cadena de caracteres (texto). También es una función que convierte un valor a una cadena de texto.\n",
    "\n",
    "- int: Es un tipo de datos en Python que representa un número entero. También es una función que convierte un valor a un número entero.\n",
    "\n",
    "- float: Es un tipo de datos en Python que representa un número decimal (de punto flotante). También es una función que convierte un valor a un número decimal."
   ]
  },
  {
   "cell_type": "code",
   "execution_count": 1,
   "metadata": {},
   "outputs": [
    {
     "name": "stdout",
     "output_type": "stream",
     "text": [
      "Los numeros dentro de Box1, Box2 y Box3 son: 0 1 2.5\n",
      "Haz cambiado la variable Texto a: 1 ; La variable Texto 2 se mantuvo como: Salchicha\n"
     ]
    }
   ],
   "source": [
    "#Declaracion e inicializacion de variables\n",
    "Box1 = 0\n",
    "Box2 = 1\n",
    "Box3 = 2.5\n",
    "Texto = \"Hola\"\n",
    "Texto2 = \"Salchicha\"\n",
    "\n",
    "#Uso del print(), input(), str(), int(), float()\n",
    "Texto = input(\"Ingrese un texto: \")\n",
    "print(\"Los numeros dentro de Box1, Box2 y Box3 son:\",Box1, Box2, Box3)\n",
    "print(\"Haz cambiado la variable Texto a:\", Texto,\"; La variable Texto 2 se mantuvo como:\",Texto2)"
   ]
  },
  {
   "cell_type": "markdown",
   "metadata": {},
   "source": [
    "Si no especificamos de que tipo es nuestro input (str, int o float) su valor sera str y pasara lo siguiente:"
   ]
  },
  {
   "cell_type": "code",
   "execution_count": null,
   "metadata": {},
   "outputs": [],
   "source": [
    "#Capturar valores y diferencias entre str, int y float\n",
    "Box1 = input(\"Ingrese un numero: \")\n",
    "Box2 = input(\"Ingrese otro numero: \")\n",
    "print(\"Como los numeros estan en str se suman de la siguiente manera:\",Box1 + Box2)"
   ]
  },
  {
   "cell_type": "markdown",
   "metadata": {},
   "source": [
    "Si especificamos que es un numero entero (int)."
   ]
  },
  {
   "cell_type": "code",
   "execution_count": null,
   "metadata": {},
   "outputs": [],
   "source": [
    "Box1 = int(input(\"Ingrese un numero: \"))\n",
    "Box2 = int(input(\"Ingrese otro numero: \"))\n",
    "print(\"Como los numeros estan en int se suman de la siguiente manera:\",Box1 + Box2)"
   ]
  },
  {
   "cell_type": "markdown",
   "metadata": {},
   "source": [
    "Si especificamos que es un numero decimal o flotante (float)."
   ]
  },
  {
   "cell_type": "code",
   "execution_count": 3,
   "metadata": {},
   "outputs": [
    {
     "name": "stdout",
     "output_type": "stream",
     "text": [
      "Como los numeros estan en float se suman de la siguiente manera: 3.0\n"
     ]
    }
   ],
   "source": [
    "Box1 = float(input(\"Ingrese un numero: \"))\n",
    "Box2 = float(input(\"Ingrese otro numero: \"))\n",
    "print(\"Como los numeros estan en float se suman de la siguiente manera:\",Box1 + Box2)"
   ]
  },
  {
   "cell_type": "markdown",
   "metadata": {},
   "source": [
    "Para sumar valores en un print tenemos tres opciones: Utilizar la coma (,), concatenar o utilizar una variables para guardar la suma."
   ]
  },
  {
   "cell_type": "code",
   "execution_count": null,
   "metadata": {},
   "outputs": [],
   "source": [
    "Box1 = float(input(\"Ingrese un numero: \"))\n",
    "Box2 = float(input(\"Ingrese otro numero: \"))\n",
    "Resultado = Box1 + Box2\n",
    "\n",
    "print(\"El resultado de la suma es:\",(Box1)+(Box2))\n",
    "print(\"El resultado de la suma es: \"+str((Box1)+(Box2)))\n",
    "print(\"El resultado de la suma es:\", Resultado)"
   ]
  },
  {
   "cell_type": "markdown",
   "metadata": {},
   "source": [
    "Si queremos mostrar el resultado de la suma y ademas mostrar los numeros introducidos podemos hacerlo de la siguiente manera:"
   ]
  },
  {
   "cell_type": "code",
   "execution_count": null,
   "metadata": {},
   "outputs": [
    {
     "name": "stdout",
     "output_type": "stream",
     "text": [
      "Los numeros introducidos son: 5 y 5\n",
      "La suma de los numeros es: 10.0\n"
     ]
    }
   ],
   "source": [
    "Box1 = input(\"Ingrese un numero: \")\n",
    "Box2 = input(\"Ingrese otro numero: \")\n",
    "print(\"Los numeros introducidos son:\",Box1,\"y\", Box2)\n",
    "print(\"La suma de los numeros es:\",float(Box1) + float(Box2))"
   ]
  }
 ],
 "metadata": {
  "kernelspec": {
   "display_name": "Python 3",
   "language": "python",
   "name": "python3"
  },
  "language_info": {
   "codemirror_mode": {
    "name": "ipython",
    "version": 3
   },
   "file_extension": ".py",
   "mimetype": "text/x-python",
   "name": "python",
   "nbconvert_exporter": "python",
   "pygments_lexer": "ipython3",
   "version": "3.12.1"
  }
 },
 "nbformat": 4,
 "nbformat_minor": 2
}
