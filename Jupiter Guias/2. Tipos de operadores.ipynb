{
 "cells": [
  {
   "cell_type": "markdown",
   "metadata": {},
   "source": [
    "# **Tipos de operadores**"
   ]
  },
  {
   "cell_type": "markdown",
   "metadata": {},
   "source": [
    ">**En python podemos encontrar 7 operadores aritmeticos: Suma, resta, multiplicacion, division, division entera, Modulo o residuo y exponente.**"
   ]
  },
  {
   "cell_type": "code",
   "execution_count": null,
   "metadata": {},
   "outputs": [],
   "source": [
    "Box1 = float(input(\"Ingrese un numero para operaciones aritmeticas: \"))\n",
    "Box2 = float(input(\"Ingrese otro numero para operaciones aritmeticas: \"))\n",
    "print(\"Suma: \", Box1 + Box2)\n",
    "print(\"Resta: \", Box1 - Box2)\n",
    "print(\"Multiplicacion: \", Box1 * Box2)\n",
    "print(\"Division: \", Box1 / Box2)\n",
    "print(\"Division entera: \", Box1 // Box2)\n",
    "print(\"Modulo: \", Box1 % Box2)\n",
    "print(\"Exponente: \", Box1 ** Box2)"
   ]
  },
  {
   "cell_type": "markdown",
   "metadata": {},
   "source": [
    ">**6 Operadores relacionales o de comparacion: Igualdad, desigualdad, mayor que, menor que, mayor o igual que, menor o igual que.**"
   ]
  },
  {
   "cell_type": "code",
   "execution_count": null,
   "metadata": {},
   "outputs": [
    {
     "name": "stdout",
     "output_type": "stream",
     "text": [
      "Igualdad; ¿Será  5.0 igual que 5.0? Resultado: True\n",
      "Desigualdad; ¿Será 5.0 diferente que 5.0? Resultado: False\n",
      "Mayor que; ¿Será 5.0 mayor que 5.0? Resultado: False\n",
      "Menor que; ¿Será 5.0 menor que 5.0? Resultado: False\n",
      "Mayor o igual que; ¿Será 5.0 mayor o igual que 5.0? Resultado: True\n",
      "Menor o igual que; ¿Será 5.0 menor o igual que 5.0? Resultado: True\n"
     ]
    }
   ],
   "source": [
    "Box1 = float(input(\"Ingrese un número para operaciones relacionales o de comparación: \"))\n",
    "Box2 = float(input(\"Ingrese otro número para operaciones relacionales o de comparación: \"))\n",
    "print(\"Igualdad; ¿Será \" + str(Box1) + \" igual que \" + str(Box2) + \"? Resultado:\", Box1 == Box2)\n",
    "print(\"Desigualdad; ¿Será \" + str(Box1) + \" diferente que \" + str(Box2) + \"? Resultado:\", Box1 != Box2)\n",
    "print(\"Mayor que; ¿Será \" + str(Box1) + \" mayor que \" + str(Box2) + \"? Resultado:\", Box1 > Box2)\n",
    "print(\"Menor que; ¿Será \" + str(Box1) + \" menor que \" + str(Box2) + \"? Resultado:\", Box1 < Box2)\n",
    "print(\"Mayor o igual que; ¿Será \" + str(Box1) + \" mayor o igual que \" + str(Box2) + \"? Resultado:\", Box1 >= Box2)\n",
    "print(\"Menor o igual que; ¿Será \" + str(Box1) + \" menor o igual que \" + str(Box2) + \"? Resultado:\", Box1 <= Box2)"
   ]
  },
  {
   "cell_type": "markdown",
   "metadata": {},
   "source": [
    ">**3 Operadores logicos: and, or y not.**"
   ]
  },
  {
   "cell_type": "markdown",
   "metadata": {},
   "source": [
    "and:"
   ]
  },
  {
   "cell_type": "code",
   "execution_count": null,
   "metadata": {},
   "outputs": [],
   "source": [
    "Box1 = float(input(\"Ingrese un número (a) para operaciones lógicas: \"))\n",
    "Box2 = float(input(\"Ingrese otro número (b) para operaciones lógicas: \"))\n",
    "Box3 = float(input(\"Ingrese un tercer número (c) para operaciones lógicas: \"))\n",
    "Resultado = (Box1 < Box2) and (Box2 < Box3)\n",
    "print(\"Operación (a < b) and (b < c), resultado: \", Resultado)"
   ]
  },
  {
   "cell_type": "markdown",
   "metadata": {},
   "source": [
    "or:"
   ]
  },
  {
   "cell_type": "code",
   "execution_count": null,
   "metadata": {},
   "outputs": [],
   "source": [
    "Box1 = float(input(\"Ingrese un número (a) para operaciones lógicas: \"))\n",
    "Box2 = float(input(\"Ingrese otro número (b) para operaciones lógicas: \"))\n",
    "Box3 = float(input(\"Ingrese un tercer número (c) para operaciones lógicas: \"))\n",
    "Resultado = (Box1 < Box2) or (Box2 > Box3)\n",
    "print(\"Operación (a < b) or (b > c), resultado: \", Resultado)"
   ]
  },
  {
   "cell_type": "markdown",
   "metadata": {},
   "source": [
    "and:"
   ]
  },
  {
   "cell_type": "code",
   "execution_count": 6,
   "metadata": {},
   "outputs": [
    {
     "name": "stdout",
     "output_type": "stream",
     "text": [
      "Operación: not(a < b), resultado:  False\n",
      "Operación: (a < b), resultado:  True\n"
     ]
    }
   ],
   "source": [
    "Box1 = float(input(\"Ingrese un número (a) para operaciones lógicas: \"))\n",
    "Box2 = float(input(\"Ingrese otro número (b) para operaciones lógicas: \"))\n",
    "Resultado = not(Box1 < Box2)\n",
    "Resultado2 = (Box1 < Box2)\n",
    "print(\"Operación: not(a < b), resultado: \", Resultado)\n",
    "print(\"Operación: (a < b), resultado: \", Resultado2)"
   ]
  },
  {
   "cell_type": "markdown",
   "metadata": {},
   "source": [
    ">**Operadores de asignacion:** =, +=, -=, *=, /=, %=, **=, //="
   ]
  },
  {
   "cell_type": "markdown",
   "metadata": {},
   "source": [
    "Se reemplaza el valor de Box1 (la primera variable) por el resultado de la operación."
   ]
  },
  {
   "cell_type": "code",
   "execution_count": null,
   "metadata": {},
   "outputs": [],
   "source": [
    "Box1 = float(input(\"Ingrese un número para operaciones de asignación: \"))\n",
    "Box2 = float(input(\"Ingrese otro número para operaciones de asignación: \"))\n",
    "\n",
    "Box1 += Box2\n",
    "print(\"Suma con asignación: \", Box1)\n",
    "Box1 -= Box2\n",
    "print(\"Resta con asignación: \", Box1)\n",
    "Box1 *= Box2\n",
    "print(\"Multiplicación con asignación: \", Box1)\n",
    "Box1 /= Box2\n",
    "print(\"División con asignación: \", Box1)\n",
    "Box1 %= Box2\n",
    "print(\"Módulo con asignación: \", Box1)\n",
    "Box1 **= Box2\n",
    "print(\"Exponente con asignación: \", Box1)\n",
    "Box1 //= Box2\n",
    "print(\"División entera con asignación: \", Box1)"
   ]
  }
 ],
 "metadata": {
  "kernelspec": {
   "display_name": "Python 3",
   "language": "python",
   "name": "python3"
  },
  "language_info": {
   "codemirror_mode": {
    "name": "ipython",
    "version": 3
   },
   "file_extension": ".py",
   "mimetype": "text/x-python",
   "name": "python",
   "nbconvert_exporter": "python",
   "pygments_lexer": "ipython3",
   "version": "3.12.1"
  }
 },
 "nbformat": 4,
 "nbformat_minor": 2
}
