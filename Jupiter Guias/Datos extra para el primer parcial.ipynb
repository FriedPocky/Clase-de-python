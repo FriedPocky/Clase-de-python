{
 "cells": [
  {
   "cell_type": "markdown",
   "metadata": {},
   "source": [
    "# **Datos extra:**"
   ]
  },
  {
   "cell_type": "markdown",
   "metadata": {},
   "source": [
    "># Identificadores en Python: "
   ]
  },
  {
   "cell_type": "markdown",
   "metadata": {},
   "source": [
    "\n",
    "Los identificadores son nombres utilizados para identificar variables, funciones, clases, módulos y otros objetos en un programa. Las reglas para definir identificadores en Python son:\n",
    "\n",
    "Deben comenzar con una letra (a-z, A-Z) o un guion bajo (_).\n",
    "Pueden contener letras, dígitos (0-9) y guiones bajos (_).\n",
    "No pueden comenzar con un dígito.\n",
    "No pueden ser una palabra reservada de Python.\n",
    "Son sensibles a mayúsculas y minúsculas (por ejemplo, variable y Variable son diferentes).\n",
    "\n",
    "Ejemplos de identificadores válidos:"
   ]
  },
  {
   "cell_type": "code",
   "execution_count": null,
   "metadata": {},
   "outputs": [],
   "source": [
    "variable = 1\n",
    "_variable = 2\n",
    "variable1 = 3\n",
    "miVariable = 4"
   ]
  },
  {
   "cell_type": "markdown",
   "metadata": {},
   "source": [
    "Ejemplos de identificadores inválidos:"
   ]
  },
  {
   "cell_type": "code",
   "execution_count": null,
   "metadata": {},
   "outputs": [],
   "source": [
    "1variable  # No puede comenzar con un dígito\n",
    "mi-variable  # No puede contener guiones\n",
    "class  # No puede ser una palabra reservada"
   ]
  },
  {
   "cell_type": "markdown",
   "metadata": {},
   "source": [
    "> # Palabras Reservadas en Python"
   ]
  },
  {
   "cell_type": "markdown",
   "metadata": {},
   "source": [
    "Palabras Reservadas en Python\n",
    "Las palabras reservadas (o palabras clave) son identificadores predefinidos que tienen un significado especial en el lenguaje Python. No se pueden usar como nombres de variables, funciones, clases, etc. Aquí tienes una lista de las palabras reservadas en Python (Los # no forman parte de ellas...):\n"
   ]
  },
  {
   "cell_type": "code",
   "execution_count": null,
   "metadata": {},
   "outputs": [],
   "source": [
    "# False      await      else       import     pass\n",
    "# None       break      except     in         raise\n",
    "# True       class      finally    is         return\n",
    "# and        continue   for        lambda     try\n",
    "# as         def        from       nonlocal   while\n",
    "# assert     del        global     not        with\n",
    "# async      elif       if         or         yield"
   ]
  },
  {
   "cell_type": "markdown",
   "metadata": {},
   "source": [
    "> # Lista de palabras reservadas actualizada:"
   ]
  },
  {
   "cell_type": "markdown",
   "metadata": {},
   "source": [
    "Puedes obtener una lista actualizada de las palabras reservadas en Python utilizando el módulo keyword:"
   ]
  },
  {
   "cell_type": "code",
   "execution_count": null,
   "metadata": {},
   "outputs": [],
   "source": [
    "import keyword\n",
    "print(keyword.kwlist)"
   ]
  },
  {
   "cell_type": "markdown",
   "metadata": {},
   "source": [
    "> # Comentarios tipos y como se usan"
   ]
  },
  {
   "cell_type": "markdown",
   "metadata": {},
   "source": [
    "En Python, los comentarios se utilizan para explicar el código y hacer que sea más fácil de entender. Los comentarios no son ejecutados por el intérprete de Python. Hay dos tipos principales de comentarios en Python: comentarios de una sola línea y comentarios de múltiples líneas."
   ]
  },
  {
   "cell_type": "markdown",
   "metadata": {},
   "source": [
    "> # Comentarios de una sola línea"
   ]
  },
  {
   "cell_type": "markdown",
   "metadata": {},
   "source": [
    "Los comentarios de una sola línea comienzan con el símbolo #. Todo el texto después del # en esa línea es ignorado por el intérprete."
   ]
  },
  {
   "cell_type": "code",
   "execution_count": null,
   "metadata": {},
   "outputs": [],
   "source": [
    "# Este es un comentario de una sola línea\n",
    "x = 5  # Este es otro comentario de una sola línea"
   ]
  },
  {
   "cell_type": "markdown",
   "metadata": {},
   "source": [
    "> # Comentarios de múltiples líneas\n"
   ]
  },
  {
   "cell_type": "markdown",
   "metadata": {},
   "source": [
    "Python no tiene una sintaxis específica para comentarios de múltiples líneas, pero se pueden crear utilizando múltiples comentarios de una sola línea o utilizando cadenas de texto multilínea (triple comillas) que no se asignan a ninguna variable.\n",
    "\n",
    "Usando múltiples comentarios de una sola línea:"
   ]
  },
  {
   "cell_type": "code",
   "execution_count": null,
   "metadata": {},
   "outputs": [],
   "source": [
    "# Este es un comentario\n",
    "# de múltiples líneas\n",
    "# utilizando múltiples\n",
    "# comentarios de una sola línea"
   ]
  },
  {
   "cell_type": "markdown",
   "metadata": {},
   "source": [
    "Usando cadenas de texto multilínea:\n",
    "Las cadenas de texto multilínea se crean utilizando tres comillas simples (''') o tres comillas dobles (\"\"\"). Aunque estas cadenas no se asignen a ninguna variable, el intérprete las ignorará."
   ]
  },
  {
   "cell_type": "code",
   "execution_count": null,
   "metadata": {},
   "outputs": [],
   "source": [
    "\"\"\"\n",
    "Este es un comentario\n",
    "de múltiples líneas\n",
    "utilizando una cadena de texto\n",
    "multilínea.\n",
    "\"\"\"\n",
    "\n",
    "'''\n",
    "Este es otro comentario\n",
    "de múltiples líneas\n",
    "utilizando una cadena de texto\n",
    "multilínea.\n",
    "'''\n"
   ]
  },
  {
   "cell_type": "markdown",
   "metadata": {},
   "source": [
    "Usar comentarios de manera efectiva puede ayudar a otros (y a ti mismo) a entender mejor el código, especialmente cuando se vuelve más complejo.\n",
    "\n"
   ]
  },
  {
   "cell_type": "markdown",
   "metadata": {},
   "source": [
    "> # Que es una Sentencias o instrucción"
   ]
  },
  {
   "cell_type": "markdown",
   "metadata": {},
   "source": [
    "En Python, una sentencia o instrucción es una unidad de código que el intérprete de Python puede ejecutar. Cada sentencia realiza una acción específica, como asignar un valor a una variable, realizar una operación aritmética, controlar el flujo del programa, etc. Las sentencias pueden ser simples o compuestas.\n",
    "\n",
    "Tipos de Sentencias"
   ]
  },
  {
   "cell_type": "markdown",
   "metadata": {},
   "source": [
    "Sentencias de Asignación: Asignan un valor a una variable."
   ]
  },
  {
   "cell_type": "code",
   "execution_count": null,
   "metadata": {},
   "outputs": [],
   "source": [
    "x = 5\n",
    "nombre = \"Juan\""
   ]
  },
  {
   "cell_type": "markdown",
   "metadata": {},
   "source": [
    "Sentencias de Expresión: Evalúan una expresión y, opcionalmente, imprimen el resultado."
   ]
  },
  {
   "cell_type": "code",
   "execution_count": null,
   "metadata": {},
   "outputs": [],
   "source": [
    "print(x + 2)"
   ]
  },
  {
   "cell_type": "markdown",
   "metadata": {},
   "source": [
    "Sentencias de Control de Flujo: Controlan el flujo de ejecución del programa.\n",
    "\n",
    "Condicionales: if, elif, else"
   ]
  },
  {
   "cell_type": "code",
   "execution_count": null,
   "metadata": {},
   "outputs": [],
   "source": [
    "if x > 0:\n",
    "    print(\"x es positivo\")\n",
    "elif x == 0:\n",
    "    print(\"x es cero\")\n",
    "else:\n",
    "    print(\"x es negativo\")"
   ]
  },
  {
   "cell_type": "markdown",
   "metadata": {},
   "source": [
    "Bucles: for, while"
   ]
  },
  {
   "cell_type": "code",
   "execution_count": null,
   "metadata": {},
   "outputs": [],
   "source": [
    "for i in range(5):\n",
    "    print(i)\n",
    "\n",
    "while x > 0:\n",
    "    print(x)\n",
    "    x -= 1"
   ]
  },
  {
   "cell_type": "markdown",
   "metadata": {},
   "source": [
    "Sentencias de Importación: Importan módulos o funciones de módulos."
   ]
  },
  {
   "cell_type": "code",
   "execution_count": null,
   "metadata": {},
   "outputs": [],
   "source": [
    "import math\n",
    "\n",
    "print(\"El valor de pi es:\", math.pi)  # Imprime el valor de pi\n",
    "print(\"El valor de pi multiplicado por 2 es:\", math.pi*2)  # Imprime el valor de pi multiplicado por 2\n",
    "print(\"La raiz cuadrada de 16 es:\", math.sqrt(16))  # Imprime la raíz cuadrada de 16"
   ]
  },
  {
   "cell_type": "markdown",
   "metadata": {},
   "source": [
    "Sentencias de Definición: Definen funciones o clases."
   ]
  },
  {
   "cell_type": "code",
   "execution_count": null,
   "metadata": {},
   "outputs": [],
   "source": [
    "def saludar(nombre):\n",
    "    print(\"Hola, \" + nombre)"
   ]
  },
  {
   "cell_type": "markdown",
   "metadata": {},
   "source": [
    "Clases:"
   ]
  },
  {
   "cell_type": "code",
   "execution_count": 6,
   "metadata": {},
   "outputs": [],
   "source": [
    "class Persona:\n",
    "    def __init__(self, nombre, edad):\n",
    "        self.nombre = nombre\n",
    "        self.edad = edad"
   ]
  },
  {
   "cell_type": "markdown",
   "metadata": {},
   "source": [
    "Sentencias de Salida: Terminan la ejecución de una función o un bucle.\n",
    "\n",
    "return: Termina la ejecución de una función y opcionalmente devuelve un valor."
   ]
  },
  {
   "cell_type": "code",
   "execution_count": null,
   "metadata": {},
   "outputs": [],
   "source": [
    "def sumar(a, b):\n",
    "    return a + b\n",
    "print(sumar(5, 3))  # Imprime la suma de 5 y 3"
   ]
  },
  {
   "cell_type": "markdown",
   "metadata": {},
   "source": [
    "break: Termina la ejecución de un bucle o cualquier programa."
   ]
  },
  {
   "cell_type": "code",
   "execution_count": null,
   "metadata": {},
   "outputs": [],
   "source": [
    "for i in range(10):\n",
    "    if i == 5:\n",
    "        break\n",
    "    print(i)"
   ]
  },
  {
   "cell_type": "markdown",
   "metadata": {},
   "source": [
    "continue: Salta a la siguiente iteración de un bucle."
   ]
  },
  {
   "cell_type": "code",
   "execution_count": null,
   "metadata": {},
   "outputs": [],
   "source": [
    "for i in range(10):\n",
    "    if i % 2 == 0:\n",
    "        continue\n",
    "    print(i)"
   ]
  },
  {
   "cell_type": "markdown",
   "metadata": {},
   "source": [
    "# Tipos de Datos Básicos\n"
   ]
  },
  {
   "cell_type": "markdown",
   "metadata": {},
   "source": [
    "Enteros (int)\n",
    "\n",
    "Representan números enteros, positivos o negativos, sin decimales.\n",
    "En Python 3, los enteros tienen una precisión ilimitada, lo que significa que pueden crecer tanto como la memoria lo permita.\n",
    "La cantidad de memoria utilizada por un entero depende de su valor, pero un entero pequeño (por ejemplo, 0) ocupa típicamente 28 bytes en un sistema de 64 bits.\n",
    "\n",
    "x = 42\n",
    "\n",
    "Números de Punto Flotante (float):\n",
    "\n",
    "Representan números reales con decimales.\n",
    "En Python, los números de punto flotante se implementan utilizando el formato de doble precisión (64 bits) de IEEE 754.\n",
    "Ocupan 24 bytes en un sistema de 64 bits.\n",
    "\n",
    "y = 3.14\n",
    "\n",
    "cadena de texto (str)\n",
    "\n",
    "Representan secuencias de caracteres (texto).\n",
    "En Python, las cadenas son inmutables y se implementan utilizando una estructura de datos que incluye un encabezado y los caracteres.\n",
    "La cantidad de memoria utilizada por una cadena depende de su longitud y del contenido, pero una cadena vacía ocupa típicamente 49 bytes en un sistema de 64 bits.\n",
    "\n",
    "nombre = \"Juan\"\n",
    "\n",
    "Booleano (bool):\n",
    "\n",
    "Representan valores de verdad: True o False.\n",
    "En Python, los booleanos son una subclase de los enteros (int), donde True es equivalente a 1 y False es equivalente a 0.\n",
    "Ocupan 28 bytes en un sistema de 64 bits.\n",
    "\n",
    "es_mayor = True\n",
    "\n",
    "Ninguno (NoneType):\n",
    "\n",
    "Representa la ausencia de un valor o un valor nulo.\n",
    "En Python, None es un objeto singleton de tipo NoneType.\n",
    "Ocupa 16 bytes en un sistema de 64 bits.\n",
    "\n",
    "valor = None"
   ]
  }
 ],
 "metadata": {
  "kernelspec": {
   "display_name": "Python 3",
   "language": "python",
   "name": "python3"
  },
  "language_info": {
   "codemirror_mode": {
    "name": "ipython",
    "version": 3
   },
   "file_extension": ".py",
   "mimetype": "text/x-python",
   "name": "python",
   "nbconvert_exporter": "python",
   "pygments_lexer": "ipython3",
   "version": "3.12.1"
  }
 },
 "nbformat": 4,
 "nbformat_minor": 2
}
